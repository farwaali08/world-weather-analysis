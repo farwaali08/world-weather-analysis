{
 "cells": [
  {
   "cell_type": "code",
   "execution_count": 1,
   "id": "5386ec67",
   "metadata": {},
   "outputs": [],
   "source": [
    "import random"
   ]
  },
  {
   "cell_type": "code",
   "execution_count": 2,
   "id": "2e58c061",
   "metadata": {},
   "outputs": [
    {
     "data": {
      "text/plain": [
       "0.1186533172057348"
      ]
     },
     "execution_count": 2,
     "metadata": {},
     "output_type": "execute_result"
    }
   ],
   "source": [
    "# This function returns only a floating-point decimal number between 0 and 1.0\n",
    "\n",
    "random.random()"
   ]
  },
  {
   "cell_type": "code",
   "execution_count": 3,
   "id": "ad8ba854",
   "metadata": {},
   "outputs": [
    {
     "data": {
      "text/plain": [
       "-54"
      ]
     },
     "execution_count": 3,
     "metadata": {},
     "output_type": "execute_result"
    }
   ],
   "source": [
    "# Random integer\n",
    "\n",
    "random.randint(-90,90)"
   ]
  },
  {
   "cell_type": "code",
   "execution_count": 5,
   "id": "992f0aba",
   "metadata": {},
   "outputs": [
    {
     "data": {
      "text/plain": [
       "-55.261796242165765"
      ]
     },
     "execution_count": 5,
     "metadata": {},
     "output_type": "execute_result"
    }
   ],
   "source": [
    "# Combine the two functions to generate random latitudes:\n",
    "\n",
    "random_number=random.random() + random.randint(-90,89)\n",
    "random_number"
   ]
  },
  {
   "cell_type": "code",
   "execution_count": 7,
   "id": "c1a236f7",
   "metadata": {},
   "outputs": [
    {
     "data": {
      "text/plain": [
       "[78.84114810332495,\n",
       " -86.3266163421674,\n",
       " 72.39255347142267,\n",
       " -66.39960919933255,\n",
       " -21.697382662697443,\n",
       " -36.51808836891003,\n",
       " -16.575826712537268,\n",
       " 17.639138747411845,\n",
       " 56.74846460185348,\n",
       " -80.12259242349437]"
      ]
     },
     "execution_count": 7,
     "metadata": {},
     "output_type": "execute_result"
    }
   ],
   "source": [
    "x = 1\n",
    "latitudes = []\n",
    "while x < 11:\n",
    "    random_lat = random.randint(-90, 89) + random.random()\n",
    "    latitudes.append(random_lat)\n",
    "    x += 1\n",
    "latitudes"
   ]
  },
  {
   "cell_type": "code",
   "execution_count": 8,
   "id": "1e547432",
   "metadata": {},
   "outputs": [
    {
     "data": {
      "text/plain": [
       "25"
      ]
     },
     "execution_count": 8,
     "metadata": {},
     "output_type": "execute_result"
    }
   ],
   "source": [
    "random.randrange(-90, 90, step=1)"
   ]
  },
  {
   "cell_type": "code",
   "execution_count": 11,
   "id": "d914b7db",
   "metadata": {},
   "outputs": [
    {
     "data": {
      "text/plain": [
       "-21"
      ]
     },
     "execution_count": 11,
     "metadata": {},
     "output_type": "execute_result"
    }
   ],
   "source": [
    "random.randrange(-90, 90, step=3)"
   ]
  },
  {
   "cell_type": "code",
   "execution_count": 12,
   "id": "6a9f70e1",
   "metadata": {},
   "outputs": [
    {
     "data": {
      "text/plain": [
       "17.801540640072858"
      ]
     },
     "execution_count": 12,
     "metadata": {},
     "output_type": "execute_result"
    }
   ],
   "source": [
    "random.uniform(-90, 90)"
   ]
  },
  {
   "cell_type": "code",
   "execution_count": 13,
   "id": "a0aa2042",
   "metadata": {},
   "outputs": [],
   "source": [
    "# Import the NumPy module. Note: if NumPy is installed, don't need to\n",
    "# import random\n",
    "\n",
    "import numpy as np"
   ]
  },
  {
   "cell_type": "code",
   "execution_count": 14,
   "id": "f50ef3fa",
   "metadata": {},
   "outputs": [
    {
     "data": {
      "text/plain": [
       "-16.122814131586708"
      ]
     },
     "execution_count": 14,
     "metadata": {},
     "output_type": "execute_result"
    }
   ],
   "source": [
    "np.random.uniform(-90.000, 90.000)"
   ]
  },
  {
   "cell_type": "code",
   "execution_count": 15,
   "id": "6c92879a",
   "metadata": {},
   "outputs": [
    {
     "data": {
      "text/plain": [
       "-67.23149218020237"
      ]
     },
     "execution_count": 15,
     "metadata": {},
     "output_type": "execute_result"
    }
   ],
   "source": [
    "np.random.uniform(low=-90, high=90)"
   ]
  },
  {
   "cell_type": "code",
   "execution_count": 16,
   "id": "346e5983",
   "metadata": {},
   "outputs": [
    {
     "data": {
      "text/plain": [
       "array([-45.36537873,  52.13721042,  56.71801489,  29.82542209,\n",
       "        19.67819576, -75.0105198 ,  83.62029808, -45.43093406,\n",
       "        63.69252192,  -6.25733443, -40.98403718, -63.38069001,\n",
       "       -12.13585223, -67.94948769, -48.17361882,  22.61849725,\n",
       "        62.87896799,  86.92674369,  79.01893309,  60.6322898 ,\n",
       "        63.44305017,  47.07862299, -10.38579759,   5.92807573,\n",
       "        53.53374333,  51.27313021,  78.32517189,  55.2577326 ,\n",
       "        48.08910348,   7.52069315, -59.45761976,  58.91408495,\n",
       "        -6.65304601, -88.62627348, -67.33454499,  60.03502691,\n",
       "       -33.59407576,  43.27617017, -49.26867086,  76.73454063,\n",
       "        42.36895422,  75.59409394,   3.52673513, -43.64531091,\n",
       "        53.49277591, -38.78555392,  43.06773057,  47.41535935,\n",
       "       -64.27228664,  86.12043406])"
      ]
     },
     "execution_count": 16,
     "metadata": {},
     "output_type": "execute_result"
    }
   ],
   "source": [
    "# to get multiple, or certain number of random numbers:\n",
    "\n",
    "np.random.uniform(-90.000, 90.000, size=50)"
   ]
  },
  {
   "cell_type": "code",
   "execution_count": 17,
   "id": "a4459068",
   "metadata": {},
   "outputs": [],
   "source": [
    "# How long will this code take to run? USe \"timeit\"\n",
    "# Import timeit\n",
    "\n",
    "import timeit"
   ]
  },
  {
   "cell_type": "code",
   "execution_count": 18,
   "id": "18cb2087",
   "metadata": {},
   "outputs": [
    {
     "name": "stdout",
     "output_type": "stream",
     "text": [
      "12.6 µs ± 14.2 ns per loop (mean ± std. dev. of 7 runs, 100000 loops each)\n"
     ]
    }
   ],
   "source": [
    "# add magic command %timeit\n",
    "\n",
    "%timeit np.random.uniform(-90.000, 90.000, size=1500)"
   ]
  },
  {
   "cell_type": "code",
   "execution_count": 19,
   "id": "9f847eb0",
   "metadata": {},
   "outputs": [
    {
     "name": "stdout",
     "output_type": "stream",
     "text": [
      "1.24 ms ± 7.27 µs per loop (mean ± std. dev. of 7 runs, 1000 loops each)\n"
     ]
    }
   ],
   "source": [
    "def latitudes(size):\n",
    "    latitudes = []\n",
    "    x = 0\n",
    "    while x < (size):\n",
    "        random_lat = random.randint(-90, 90) + random.random()\n",
    "        latitudes.append(random_lat)\n",
    "        x += 1\n",
    "    return latitudes\n",
    "# Call the function with 1500.\n",
    "%timeit latitudes(1500)"
   ]
  },
  {
   "cell_type": "code",
   "execution_count": null,
   "id": "da5b6a65",
   "metadata": {},
   "outputs": [],
   "source": [
    "# Result: using the np.random.uniform function is 100x faster"
   ]
  },
  {
   "cell_type": "code",
   "execution_count": 20,
   "id": "6b9e26ef",
   "metadata": {},
   "outputs": [
    {
     "name": "stdout",
     "output_type": "stream",
     "text": [
      "12.6 µs ± 79.8 ns per loop (mean ± std. dev. of 7 runs, 100000 loops each)\n"
     ]
    }
   ],
   "source": [
    "# Skill Drill\n",
    "\n",
    "%timeit np.random.uniform(-90.000,89.000, size=1500)"
   ]
  },
  {
   "cell_type": "code",
   "execution_count": null,
   "id": "843cb392",
   "metadata": {},
   "outputs": [],
   "source": []
  }
 ],
 "metadata": {
  "kernelspec": {
   "display_name": "PythonData",
   "language": "python",
   "name": "pythondata"
  },
  "language_info": {
   "codemirror_mode": {
    "name": "ipython",
    "version": 3
   },
   "file_extension": ".py",
   "mimetype": "text/x-python",
   "name": "python",
   "nbconvert_exporter": "python",
   "pygments_lexer": "ipython3",
   "version": "3.9.7"
  }
 },
 "nbformat": 4,
 "nbformat_minor": 5
}
